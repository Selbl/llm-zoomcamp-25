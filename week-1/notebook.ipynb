{
 "cells": [
  {
   "cell_type": "code",
   "execution_count": 1,
   "id": "b97790bd-337b-44a0-9ec3-305eb4889f3a",
   "metadata": {},
   "outputs": [],
   "source": [
    "import openai"
   ]
  },
  {
   "cell_type": "code",
   "execution_count": 2,
   "id": "2b1088e2-3c2f-4314-ba66-aca1c63686a5",
   "metadata": {},
   "outputs": [],
   "source": [
    "from openai import OpenAI"
   ]
  },
  {
   "cell_type": "code",
   "execution_count": 3,
   "id": "7fbfacf6-51a9-42c6-ac21-c0a0e07aad6e",
   "metadata": {},
   "outputs": [],
   "source": [
    "client = OpenAI()"
   ]
  },
  {
   "cell_type": "code",
   "execution_count": 5,
   "id": "b17572dd-d46b-429c-921c-4ed20bd4bbf8",
   "metadata": {},
   "outputs": [],
   "source": [
    "responses = client.chat.completions.create(\n",
    "    model='gpt-4o',\n",
    "    messages=[{\"role\": \"user\", \"content\": \"are stoats mustelids?\"}]\n",
    ")"
   ]
  },
  {
   "cell_type": "code",
   "execution_count": 6,
   "id": "92b49562-be11-4fe8-8285-f8d5a1e247e2",
   "metadata": {},
   "outputs": [
    {
     "data": {
      "text/plain": [
       "'Yes, stoats are indeed mustelids. Mustelids are a family of carnivorous mammals known as Mustelidae, which also includes animals such as weasels, otters, ferrets, and badgers. Stoats, also known as short-tailed weasels or ermine, are scientifically classified as *Mustela erminea* and are part of this diverse family.'"
      ]
     },
     "execution_count": 6,
     "metadata": {},
     "output_type": "execute_result"
    }
   ],
   "source": [
    "responses.choices[0].message.content"
   ]
  },
  {
   "cell_type": "code",
   "execution_count": null,
   "id": "4056eeb6-6fb3-4b94-8d6e-46dbb62e296c",
   "metadata": {},
   "outputs": [],
   "source": []
  }
 ],
 "metadata": {
  "kernelspec": {
   "display_name": "Python 3 (ipykernel)",
   "language": "python",
   "name": "python3"
  },
  "language_info": {
   "codemirror_mode": {
    "name": "ipython",
    "version": 3
   },
   "file_extension": ".py",
   "mimetype": "text/x-python",
   "name": "python",
   "nbconvert_exporter": "python",
   "pygments_lexer": "ipython3",
   "version": "3.10.16"
  }
 },
 "nbformat": 4,
 "nbformat_minor": 5
}
